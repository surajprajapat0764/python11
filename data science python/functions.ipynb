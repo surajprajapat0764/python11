{
 "cells": [
  {
   "cell_type": "code",
   "execution_count": 2,
   "id": "23f0a7c6",
   "metadata": {},
   "outputs": [
    {
     "name": "stdout",
     "output_type": "stream",
     "text": [
      "hello from the function\n"
     ]
    }
   ],
   "source": [
    "def hello():\n",
    "    print(\"hello from the function\")\n",
    "hello()"
   ]
  },
  {
   "cell_type": "code",
   "execution_count": 3,
   "id": "3e629709",
   "metadata": {},
   "outputs": [
    {
     "name": "stdout",
     "output_type": "stream",
     "text": [
      "30\n"
     ]
    }
   ],
   "source": [
    "def add():\n",
    "    a=10\n",
    "    b=20\n",
    "    c=30\n",
    "    print(c)\n",
    "add()"
   ]
  },
  {
   "cell_type": "code",
   "execution_count": 4,
   "id": "f9c1581e",
   "metadata": {},
   "outputs": [
    {
     "name": "stdout",
     "output_type": "stream",
     "text": [
      "8611702355\n"
     ]
    }
   ],
   "source": [
    "def add(a,b):\n",
    "    print(a+b)\n",
    "add(7846836587,764865768)"
   ]
  },
  {
   "cell_type": "code",
   "execution_count": null,
   "id": "63a48e22",
   "metadata": {},
   "outputs": [
    {
     "name": "stdout",
     "output_type": "stream",
     "text": [
      "the youngest child is sohan\n"
     ]
    }
   ],
   "source": [
    "def child(*kids):\n",
    "    print(\"the youngest child is \" +kids[2])\n",
    "child(\"mohan\",\"rohan\",\"sohan\")"
   ]
  },
  {
   "cell_type": "code",
   "execution_count": 22,
   "id": "cad9819c",
   "metadata": {},
   "outputs": [
    {
     "name": "stdout",
     "output_type": "stream",
     "text": [
      "my hobby is cricket\n",
      "my hobby is coding\n"
     ]
    }
   ],
   "source": [
    "def hobby(name=\"coding\"):\n",
    "    print(\"my hobby is \" + name)\n",
    "hobby(\"cricket\")\n",
    "hobby()"
   ]
  },
  {
   "cell_type": "code",
   "execution_count": 17,
   "id": "bd20b1c7",
   "metadata": {},
   "outputs": [
    {
     "name": "stdout",
     "output_type": "stream",
     "text": [
      "the youngest child is mohan\n"
     ]
    }
   ],
   "source": [
    "def child(child1,child2,child3):\n",
    "    print(\"the youngest child is \" +child3)\n",
    "child(child3=\"mohan\",child2=\"rohan\",child1=\"sohan\")"
   ]
  },
  {
   "cell_type": "code",
   "execution_count": 24,
   "id": "3c983064",
   "metadata": {},
   "outputs": [
    {
     "name": "stdout",
     "output_type": "stream",
     "text": [
      "3.0\n"
     ]
    }
   ],
   "source": [
    "def avgg(name):\n",
    "    print(sum(name)/len(name))\n",
    "avgg([1,2,3,4,5])"
   ]
  },
  {
   "cell_type": "code",
   "execution_count": null,
   "id": "67e7a29f",
   "metadata": {},
   "outputs": [],
   "source": []
  }
 ],
 "metadata": {
  "kernelspec": {
   "display_name": "Python 3",
   "language": "python",
   "name": "python3"
  },
  "language_info": {
   "codemirror_mode": {
    "name": "ipython",
    "version": 3
   },
   "file_extension": ".py",
   "mimetype": "text/x-python",
   "name": "python",
   "nbconvert_exporter": "python",
   "pygments_lexer": "ipython3",
   "version": "3.11.9"
  }
 },
 "nbformat": 4,
 "nbformat_minor": 5
}
