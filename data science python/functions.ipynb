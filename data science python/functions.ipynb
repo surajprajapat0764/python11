{
 "cells": [
  {
   "cell_type": "code",
   "execution_count": 2,
   "id": "23f0a7c6",
   "metadata": {},
   "outputs": [
    {
     "name": "stdout",
     "output_type": "stream",
     "text": [
      "hello from the function\n"
     ]
    }
   ],
   "source": [
    "def hello():\n",
    "    print(\"hello from the function\")\n",
    "hello()"
   ]
  },
  {
   "cell_type": "code",
   "execution_count": 3,
   "id": "3e629709",
   "metadata": {},
   "outputs": [
    {
     "name": "stdout",
     "output_type": "stream",
     "text": [
      "30\n"
     ]
    }
   ],
   "source": [
    "def add():\n",
    "    a=10\n",
    "    b=20\n",
    "    c=30\n",
    "    print(c)\n",
    "add()"
   ]
  },
  {
   "cell_type": "code",
   "execution_count": 4,
   "id": "f9c1581e",
   "metadata": {},
   "outputs": [
    {
     "name": "stdout",
     "output_type": "stream",
     "text": [
      "8611702355\n"
     ]
    }
   ],
   "source": [
    "def add(a,b):\n",
    "    print(a+b)\n",
    "add(7846836587,764865768)"
   ]
  },
  {
   "cell_type": "code",
   "execution_count": null,
   "id": "63a48e22",
   "metadata": {},
   "outputs": [
    {
     "name": "stdout",
     "output_type": "stream",
     "text": [
      "the youngest child is sohan\n"
     ]
    }
   ],
   "source": [
    "def child(*kids):\n",
    "    print(\"the youngest child is \" +kids[2])\n",
    "child(\"mohan\",\"rohan\",\"sohan\")"
   ]
  },
  {
   "cell_type": "code",
   "execution_count": 22,
   "id": "cad9819c",
   "metadata": {},
   "outputs": [
    {
     "name": "stdout",
     "output_type": "stream",
     "text": [
      "my hobby is cricket\n",
      "my hobby is coding\n"
     ]
    }
   ],
   "source": [
    "def hobby(name=\"coding\"):\n",
    "    print(\"my hobby is \" + name)\n",
    "hobby(\"cricket\")\n",
    "hobby()"
   ]
  },
  {
   "cell_type": "code",
   "execution_count": 17,
   "id": "bd20b1c7",
   "metadata": {},
   "outputs": [
    {
     "name": "stdout",
     "output_type": "stream",
     "text": [
      "the youngest child is mohan\n"
     ]
    }
   ],
   "source": [
    "def child(child1,child2,child3):\n",
    "    print(\"the youngest child is \" +child3)\n",
    "child(child3=\"mohan\",child2=\"rohan\",child1=\"sohan\")"
   ]
  },
  {
   "cell_type": "code",
   "execution_count": 24,
   "id": "3c983064",
   "metadata": {},
   "outputs": [
    {
     "name": "stdout",
     "output_type": "stream",
     "text": [
      "3.0\n"
     ]
    }
   ],
   "source": [
    "def avgg(name):\n",
    "    print(sum(name)/len(name))\n",
    "avgg([1,2,3,4,5])"
   ]
  },
  {
   "cell_type": "code",
   "execution_count": 9,
   "id": "b0d292af",
   "metadata": {},
   "outputs": [
    {
     "name": "stdout",
     "output_type": "stream",
     "text": [
      "[1, 4, 9, 16, 25]\n"
     ]
    }
   ],
   "source": [
    "def sq(num):\n",
    "    return num*num\n",
    "\n",
    "lst = [1,2,3,4,5]\n",
    "result = map(sq,lst)\n",
    "print(list(result))"
   ]
  },
  {
   "cell_type": "code",
   "execution_count": 11,
   "id": "a29a600b",
   "metadata": {},
   "outputs": [
    {
     "name": "stdout",
     "output_type": "stream",
     "text": [
      "[2, 4]\n"
     ]
    }
   ],
   "source": [
    "lst = [1,2,3,4,5]\n",
    "result = filter(lambda num : num%2==0,lst)\n",
    "print(list(result))"
   ]
  },
  {
   "cell_type": "code",
   "execution_count": 12,
   "id": "300a4662",
   "metadata": {},
   "outputs": [
    {
     "name": "stdout",
     "output_type": "stream",
     "text": [
      "15\n"
     ]
    }
   ],
   "source": [
    "from functools import reduce \n",
    "\n",
    "lst = [1,2,3,4,5]\n",
    "result = reduce(lambda num1,num2 : num1+num2,lst)\n",
    "print(result)"
   ]
  },
  {
   "cell_type": "code",
   "execution_count": null,
   "id": "6b78f308",
   "metadata": {},
   "outputs": [
    {
     "name": "stdout",
     "output_type": "stream",
     "text": [
      "[(0, 'mohan'), (1, 'rohan'), (2, 'sohan')]\n"
     ]
    }
   ],
   "source": [
    "lst = [\"mohan\",\"rohan\",\"sohan\"]\n",
    "result = enumerate(lst)\n",
    "print(list(result))"
   ]
  },
  {
   "cell_type": "code",
   "execution_count": null,
   "id": "c327f571",
   "metadata": {},
   "outputs": [],
   "source": []
  },
  {
   "cell_type": "code",
   "execution_count": 15,
   "id": "21c61dbf",
   "metadata": {},
   "outputs": [
    {
     "name": "stdout",
     "output_type": "stream",
     "text": [
      "[('yuy', 1), ('yet', 2)]\n"
     ]
    }
   ],
   "source": [
    "lst1 = [\"yuy\",\"yet\",\"yj\"]\n",
    "lst2 = [1,2,]\n",
    "result = zip(lst1,lst2)\n",
    "print(list(result))"
   ]
  },
  {
   "cell_type": "code",
   "execution_count": 20,
   "id": "67e7a29f",
   "metadata": {},
   "outputs": [
    {
     "name": "stdout",
     "output_type": "stream",
     "text": [
      "[0, 1, 2]\n",
      "['mohan', 'rohan', 'sohan']\n"
     ]
    }
   ],
   "source": [
    "zipped  =[(0, 'mohan'), (1, 'rohan'), (2, 'sohan')]\n",
    "result, number = zip(*zipped)\n",
    "\n",
    "print(list(result))\n",
    "print(list(number))\n"
   ]
  },
  {
   "cell_type": "code",
   "execution_count": 4,
   "id": "aced38e1",
   "metadata": {},
   "outputs": [
    {
     "data": {
      "text/plain": [
       "349"
      ]
     },
     "execution_count": 4,
     "metadata": {},
     "output_type": "execute_result"
    }
   ],
   "source": [
    "x = lambda a,b : a + b\n",
    "x(5,344)"
   ]
  }
 ],
 "metadata": {
  "kernelspec": {
   "display_name": "Python 3",
   "language": "python",
   "name": "python3"
  },
  "language_info": {
   "codemirror_mode": {
    "name": "ipython",
    "version": 3
   },
   "file_extension": ".py",
   "mimetype": "text/x-python",
   "name": "python",
   "nbconvert_exporter": "python",
   "pygments_lexer": "ipython3",
   "version": "3.11.9"
  }
 },
 "nbformat": 4,
 "nbformat_minor": 5
}
