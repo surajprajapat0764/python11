{
 "cells": [
  {
   "cell_type": "code",
   "execution_count": 4,
   "id": "3711e77a",
   "metadata": {},
   "outputs": [
    {
     "data": {
      "text/plain": [
       "('abc', 'xyz')"
      ]
     },
     "execution_count": 4,
     "metadata": {},
     "output_type": "execute_result"
    }
   ],
   "source": [
    "class car :\n",
    "    num1 = 10\n",
    "    num2 = 20\n",
    "    name = \"abc\"\n",
    "    model = \"xyz\"\n",
    "    def add (self):\n",
    "        return self.num1 + self.num2\n",
    "    def display (self):\n",
    "        return self.name , self.model\n",
    "obj = car()\n",
    "obj.display()"
   ]
  },
  {
   "cell_type": "code",
   "execution_count": null,
   "id": "15a2896b",
   "metadata": {},
   "outputs": [
    {
     "data": {
      "text/plain": [
       "('lion', 10)"
      ]
     },
     "execution_count": 10,
     "metadata": {},
     "output_type": "execute_result"
    }
   ],
   "source": [
    "class animal:\n",
    "    def __init__(self,name,age):\n",
    "        self.name = name\n",
    "        self.age = age\n",
    "\n",
    "    def display(self):\n",
    "        return self.name , self.age\n",
    "\n",
    "obj = animal(\"lion\",10 )\n",
    "obj.display()"
   ]
  },
  {
   "cell_type": "code",
   "execution_count": 1,
   "id": "6323ab6d",
   "metadata": {},
   "outputs": [
    {
     "data": {
      "text/plain": [
       "('lion', 10)"
      ]
     },
     "execution_count": 1,
     "metadata": {},
     "output_type": "execute_result"
    }
   ],
   "source": [
    "class animal:\n",
    "    def __init__(self,n,a):\n",
    "        self.name = n\n",
    "        self.age = a\n",
    "\n",
    "    def display(self):\n",
    "        return self.name , self.age\n",
    "\n",
    "obj = animal(\"lion\",10 )\n",
    "obj.display()"
   ]
  },
  {
   "cell_type": "code",
   "execution_count": 3,
   "id": "8faae3d2",
   "metadata": {},
   "outputs": [
    {
     "ename": "SyntaxError",
     "evalue": "invalid syntax (2321141982.py, line 9)",
     "output_type": "error",
     "traceback": [
      "  \u001b[36mCell\u001b[39m\u001b[36m \u001b[39m\u001b[32mIn[3]\u001b[39m\u001b[32m, line 9\u001b[39m\n\u001b[31m    \u001b[39m\u001b[31mobj = bike():\u001b[39m\n                ^\n\u001b[31mSyntaxError\u001b[39m\u001b[31m:\u001b[39m invalid syntax\n"
     ]
    }
   ],
   "source": [
    "##inhertance -- single mul. mul.le. hyer, hybrid,\n",
    "##single inhertance\n",
    "class car:\n",
    "    def display(self):\n",
    "        return \"car\"\n",
    "class bike:\n",
    "    def show(self):\n",
    "        return \"bike\"\n",
    "obj = bike()\n",
    "print(obj.display())\n",
    "print(obj.show())"
   ]
  },
  {
   "cell_type": "code",
   "execution_count": 9,
   "id": "9c7c4ba6",
   "metadata": {},
   "outputs": [
    {
     "data": {
      "text/plain": [
       "'abc'"
      ]
     },
     "execution_count": 9,
     "metadata": {},
     "output_type": "execute_result"
    }
   ],
   "source": [
    "class persone:\n",
    "    def __init__(self,name):\n",
    "        self.name = name\n",
    "\n",
    "    def show(self):\n",
    "        return self.name\n",
    "\n",
    "class employee(persone):\n",
    "    def __init__(self,name,salary):\n",
    "        super().__init__(name)\n",
    "        self.salary = salary\n",
    "\n",
    "obj = employee(\"abc\",1000)\n",
    "obj.show()\n"
   ]
  },
  {
   "cell_type": "markdown",
   "id": "27e173a3",
   "metadata": {},
   "source": []
  },
  {
   "cell_type": "code",
   "execution_count": null,
   "id": "0dbcedd8",
   "metadata": {},
   "outputs": [],
   "source": [
    "list"
   ]
  },
  {
   "cell_type": "code",
   "execution_count": 12,
   "id": "4bc3bffd",
   "metadata": {},
   "outputs": [],
   "source": [
    "class persone:\n",
    "    def __init__(self,name):\n",
    "        self.name = name\n",
    "\n",
    "    def show(self):\n",
    "        return self.name\n",
    "\n",
    "class employee(persone):\n",
    "    def __init__(self,name,salary):\n",
    "        super().__init__(name)\n",
    "        self.salary = salary\n",
    "\n",
    "\n",
    "class job:\n",
    "    def __init__(self,salary):\n",
    "        self.salary = salary\n",
    "\n",
    "class job:\n",
    "    def __init__(self,salary):\n",
    "        self.salary = salary\n",
    "\n",
    "class Employeepersonjob(employee,job):\n",
    "    def __init__(self,name,salary):\n",
    "        employee.__init__(self,name,salary)\n",
    "        job.__init__(self,salary)\n"
   ]
  },
  {
   "cell_type": "code",
   "execution_count": 16,
   "id": "dccab9b5",
   "metadata": {},
   "outputs": [
    {
     "name": "stdout",
     "output_type": "stream",
     "text": [
      "meow\n",
      "bark\n"
     ]
    }
   ],
   "source": [
    "class cat:\n",
    "    def sound(self):\n",
    "        return \"meow\"\n",
    "class dog:\n",
    "    def sound(self):\n",
    "        return \"bark\" \n",
    "    \n",
    "    def make_sound(animal):\n",
    "        return animal.sound()\n",
    "\n",
    "cat = cat()\n",
    "dog = dog()\n",
    "\n",
    "\n",
    "print(make_sound(cat))\n",
    "print(make_sound(dog))"
   ]
  },
  {
   "cell_type": "code",
   "execution_count": null,
   "id": "42dcb33f",
   "metadata": {},
   "outputs": [],
   "source": [
    "class rectangle:\n",
    "    def area(user):\n",
    "        return \"Length*Breadth\""
   ]
  },
  {
   "cell_type": "code",
   "execution_count": 20,
   "id": "2475bedf",
   "metadata": {},
   "outputs": [
    {
     "data": {
      "text/plain": [
       "90"
      ]
     },
     "execution_count": 20,
     "metadata": {},
     "output_type": "execute_result"
    }
   ],
   "source": [
    "class student:\n",
    "    def __init__(self,name,marks):\n",
    "        self.name = name\n",
    "        self.__marks = marks \n",
    "\n",
    "    def set_marks(self):\n",
    "        return self.__marks\n",
    "    \n",
    "    def set_marks(self,marks):\n",
    "        if 0 <= marks <= 100:\n",
    "            self.__marks = marks\n",
    "\n",
    "        else:\n",
    "            print(\"Invalid marks\")\n",
    "s = student(\"abc\",90)\n",
    "s._student__marks"
   ]
  },
  {
   "cell_type": "code",
   "execution_count": null,
   "id": "6c6b5a2f",
   "metadata": {},
   "outputs": [],
   "source": []
  }
 ],
 "metadata": {
  "kernelspec": {
   "display_name": "Python 3",
   "language": "python",
   "name": "python3"
  },
  "language_info": {
   "codemirror_mode": {
    "name": "ipython",
    "version": 3
   },
   "file_extension": ".py",
   "mimetype": "text/x-python",
   "name": "python",
   "nbconvert_exporter": "python",
   "pygments_lexer": "ipython3",
   "version": "3.11.9"
  }
 },
 "nbformat": 4,
 "nbformat_minor": 5
}
