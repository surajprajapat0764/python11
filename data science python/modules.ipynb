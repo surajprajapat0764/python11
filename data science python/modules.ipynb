{
 "cells": [
  {
   "cell_type": "code",
   "execution_count": null,
   "id": "8935b2a0",
   "metadata": {},
   "outputs": [],
   "source": [
    "#buit a Module os ,datetime,re,math\n",
    "#third party modules\n",
    "#user defined modules##"
   ]
  },
  {
   "cell_type": "code",
   "execution_count": null,
   "id": "9d2cb968",
   "metadata": {},
   "outputs": [],
   "source": [
    "#from functions import reduce"
   ]
  },
  {
   "cell_type": "code",
   "execution_count": 6,
   "id": "d0ce96e4",
   "metadata": {},
   "outputs": [
    {
     "name": "stdout",
     "output_type": "stream",
     "text": [
      "5\n"
     ]
    }
   ],
   "source": [
    "from addition import addfunction\n",
    "print(addfunction(2,3))"
   ]
  },
  {
   "cell_type": "code",
   "execution_count": null,
   "id": "5e15ccb5",
   "metadata": {},
   "outputs": [],
   "source": []
  }
 ],
 "metadata": {
  "kernelspec": {
   "display_name": "Python 3",
   "language": "python",
   "name": "python3"
  },
  "language_info": {
   "codemirror_mode": {
    "name": "ipython",
    "version": 3
   },
   "file_extension": ".py",
   "mimetype": "text/x-python",
   "name": "python",
   "nbconvert_exporter": "python",
   "pygments_lexer": "ipython3",
   "version": "3.11.9"
  }
 },
 "nbformat": 4,
 "nbformat_minor": 5
}
