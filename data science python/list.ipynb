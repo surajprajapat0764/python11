{
 "cells": [
  {
   "cell_type": "code",
   "execution_count": 4,
   "id": "30a4d8d7",
   "metadata": {},
   "outputs": [
    {
     "data": {
      "text/plain": [
       "['red', 'green', 'blue', 'red']"
      ]
     },
     "execution_count": 4,
     "metadata": {},
     "output_type": "execute_result"
    }
   ],
   "source": [
    "lst = [\"red\",\"black\",\"green\",\"blue\",\"red\"]\n",
    "#lst.count(\"red\")\n",
    "#lst.index(\"red\")\n",
    "#lst.clear()\n",
    "#lst.extend([\"white\",\"black\"])\n",
    "lst.remove(\"black\")\n",
    "#lst.sort(reverse=True)\n",
    "lst"
   ]
  },
  {
   "cell_type": "code",
   "execution_count": 33,
   "id": "0b17a87c",
   "metadata": {},
   "outputs": [
    {
     "name": "stdout",
     "output_type": "stream",
     "text": [
      "[10, 20, [30, 40, [50, 6000], 70], 80]\n"
     ]
    }
   ],
   "source": [
    "lst = [10,20,[30,40,[50,60],70],80]\n",
    "lst[2][2][1] = 6000\n",
    "print(lst)"
   ]
  },
  {
   "cell_type": "code",
   "execution_count": 30,
   "id": "96ce0b99",
   "metadata": {},
   "outputs": [
    {
     "name": "stdout",
     "output_type": "stream",
     "text": [
      "['white', 'hello', 'black', 'blue', 'yellow']\n"
     ]
    }
   ],
   "source": [
    "lst = [\"red\",\"black\",\"blue\",\"yellow\"]\n",
    "lst[0:1] = [\"white\" , \"hello\"]\n",
    "print(lst)"
   ]
  },
  {
   "cell_type": "code",
   "execution_count": 3,
   "id": "f992edb3",
   "metadata": {},
   "outputs": [
    {
     "data": {
      "text/plain": [
       "['black', 'blue']"
      ]
     },
     "execution_count": 3,
     "metadata": {},
     "output_type": "execute_result"
    }
   ],
   "source": [
    "lst = [\"red\",\"black\",\"blue\"]\n",
    "lst[-2:]"
   ]
  },
  {
   "cell_type": "code",
   "execution_count": 6,
   "id": "fb0da830",
   "metadata": {},
   "outputs": [
    {
     "ename": "NameError",
     "evalue": "name 'time' is not defined",
     "output_type": "error",
     "traceback": [
      "\u001b[31m---------------------------------------------------------------------------\u001b[39m",
      "\u001b[31mNameError\u001b[39m                                 Traceback (most recent call last)",
      "\u001b[36mCell\u001b[39m\u001b[36m \u001b[39m\u001b[32mIn[6]\u001b[39m\u001b[32m, line 1\u001b[39m\n\u001b[32m----> \u001b[39m\u001b[32m1\u001b[39m lst = [\u001b[32m1\u001b[39m,\u001b[32m2\u001b[39m,\u001b[33m\"\u001b[39m\u001b[33mhello\u001b[39m\u001b[33m\"\u001b[39m,\u001b[43mtime\u001b[49m,\u001b[32m33.23\u001b[39m,\u001b[33m\"\u001b[39m\u001b[33mhello\u001b[39m\u001b[33m\"\u001b[39m]\n\u001b[32m      2\u001b[39m \u001b[38;5;28mprint\u001b[39m(lst)\n\u001b[32m      3\u001b[39m \u001b[38;5;28mprint\u001b[39m[\u001b[38;5;28mtype\u001b[39m(lst)]\n",
      "\u001b[31mNameError\u001b[39m: name 'time' is not defined"
     ]
    }
   ],
   "source": [
    "lst = [1,2,\"hello\",time,33.23,\"hello\"]\n",
    "print(lst)\n",
    "print[type(lst)]"
   ]
  },
  {
   "cell_type": "code",
   "execution_count": null,
   "id": "d23215bd",
   "metadata": {},
   "outputs": [],
   "source": [
    "print(\"hello world\")"
   ]
  },
  {
   "cell_type": "markdown",
   "id": "fa131024",
   "metadata": {},
   "source": [
    "#list"
   ]
  },
  {
   "cell_type": "markdown",
   "id": "7bfe4760",
   "metadata": {},
   "source": [
    "list = [1,2,\"hello\",true,33.23,\"hello\"]\n",
    "print(lst)\n",
    "print{type(list)}"
   ]
  }
 ],
 "metadata": {
  "kernelspec": {
   "display_name": "Python 3",
   "language": "python",
   "name": "python3"
  },
  "language_info": {
   "codemirror_mode": {
    "name": "ipython",
    "version": 3
   },
   "file_extension": ".py",
   "mimetype": "text/x-python",
   "name": "python",
   "nbconvert_exporter": "python",
   "pygments_lexer": "ipython3",
   "version": "3.11.9"
  }
 },
 "nbformat": 4,
 "nbformat_minor": 5
}
