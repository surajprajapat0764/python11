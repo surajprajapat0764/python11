{
 "cells": [
  {
   "cell_type": "code",
   "execution_count": 17,
   "id": "2c98fc7b",
   "metadata": {},
   "outputs": [
    {
     "name": "stdout",
     "output_type": "stream",
     "text": [
      "{'a': 10, 'b': 10, 'c': 10}\n"
     ]
    }
   ],
   "source": [
    "dt = {}.fromkeys(\"abc\",10)\n",
    "print(dt)"
   ]
  },
  {
   "cell_type": "code",
   "execution_count": 16,
   "id": "a96a612d",
   "metadata": {},
   "outputs": [
    {
     "name": "stdout",
     "output_type": "stream",
     "text": [
      "{'a': 1, 'b': 2}\n"
     ]
    }
   ],
   "source": [
    "dt = {\"a\":1}\n",
    "value = dt.setdefault(\"b\",2)\n",
    "print(dt)"
   ]
  },
  {
   "cell_type": "code",
   "execution_count": 15,
   "id": "2b4dbfed",
   "metadata": {},
   "outputs": [
    {
     "data": {
      "text/plain": [
       "{'name': 'hello', 'age': 20, 'hobby': 'basketball', 'class': '10tth'}"
      ]
     },
     "execution_count": 15,
     "metadata": {},
     "output_type": "execute_result"
    }
   ],
   "source": [
    "dt = {\n",
    "    \"name\" : \"hello\",\n",
    "    \"age\" : 20,\n",
    "    \"hobby\" : \"coding\"\n",
    "}\n",
    "#dt.items()\n",
    "#dt.keys()\n",
    "#dt.values()\n",
    "#dt.pop(\"name\")\n",
    "#dt.popitem()\n",
    "dt.update({\"hobby\": \"basketball\",\"class\":\"10tth\"})\n",
    "dt"
   ]
  },
  {
   "cell_type": "code",
   "execution_count": 8,
   "id": "7cf3fdaa",
   "metadata": {},
   "outputs": [
    {
     "data": {
      "text/plain": [
       "{'name': 'hello', 'age': {'age1': 10, 'age2': 20}, 'hobby': 'basketball'}"
      ]
     },
     "execution_count": 8,
     "metadata": {},
     "output_type": "execute_result"
    }
   ],
   "source": [
    "dt [\"hobby\"] = \"basketball\"\n",
    "dt"
   ]
  },
  {
   "cell_type": "code",
   "execution_count": 6,
   "id": "f183d87e",
   "metadata": {},
   "outputs": [
    {
     "name": "stdout",
     "output_type": "stream",
     "text": [
      "{'name': 'hello', 'age': {'age1': 10, 'age2': 20}, 'hobby': 'coding'}\n",
      "<class 'dict'>\n"
     ]
    }
   ],
   "source": [
    "dt={\n",
    "    \"name\" : \"hello\",\n",
    "    \"age\"  : 20,\n",
    "    \"hobby\" : \"coding\",\n",
    "    \"age\"   : {\"age1\" : 10 , \"age2\" : 20}\n",
    "    }\n",
    "print(dt)\n",
    "print(type(dt))\n"
   ]
  }
 ],
 "metadata": {
  "kernelspec": {
   "display_name": "Python 3",
   "language": "python",
   "name": "python3"
  },
  "language_info": {
   "codemirror_mode": {
    "name": "ipython",
    "version": 3
   },
   "file_extension": ".py",
   "mimetype": "text/x-python",
   "name": "python",
   "nbconvert_exporter": "python",
   "pygments_lexer": "ipython3",
   "version": "3.11.9"
  }
 },
 "nbformat": 4,
 "nbformat_minor": 5
}
